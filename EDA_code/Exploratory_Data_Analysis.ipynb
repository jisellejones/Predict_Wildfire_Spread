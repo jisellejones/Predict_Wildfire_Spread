{
 "cells": [
  {
   "cell_type": "markdown",
   "id": "89bd12e7",
   "metadata": {},
   "source": [
    "# Import Data, Clean Data, Visualize Data"
   ]
  },
  {
   "cell_type": "code",
   "execution_count": 1,
   "id": "e16f6b97",
   "metadata": {},
   "outputs": [],
   "source": [
    "# Initial Import of Dependencies\n",
    "import pandas as pd\n",
    "import seaborn as sns\n",
    "from pathlib import Path\n",
    "import matplotlib.pyplot as plt\n",
    "from sklearn.linear_model import LinearRegression\n",
    "from sklearn.preprocessing import LabelEncoder\n",
    "import psycopg2 as pg"
   ]
  },
  {
   "cell_type": "code",
   "execution_count": 9,
   "id": "957af7dc",
   "metadata": {},
   "outputs": [],
   "source": [
    "engine = pg.connect(\"dbname='d3r8dfuncb78iv' user='jrufhfiejfajri' host='ec2-52-200-155-213.compute-1.amazonaws.com' port='5432' password='9a7254d2151b5e3c280fe275dbba039acdc9190fbc167f64c564c449ca77af88'\")\n",
    "fire_df = pd.read_sql('select * from wildfire_data', con=engine)\n",
    "noaa_df = pd.read_sql('select * from noaa_data', con=engine)\n"
   ]
  },
  {
   "cell_type": "code",
   "execution_count": 11,
   "id": "15486100",
   "metadata": {},
   "outputs": [
    {
     "data": {
      "text/plain": [
       "fire_year          int64\n",
       "district          object\n",
       "unit              object\n",
       "fire_number       object\n",
       "fire_name         object\n",
       "legal             object\n",
       "latitude          object\n",
       "longitude         object\n",
       "fuel_model        object\n",
       "county            object\n",
       "report_date       object\n",
       "general_cause     object\n",
       "odf_acres        float64\n",
       "total_acres      float64\n",
       "dtype: object"
      ]
     },
     "execution_count": 11,
     "metadata": {},
     "output_type": "execute_result"
    }
   ],
   "source": [
    "# Check Data Types\n",
    "fire_df.dtypes"
   ]
  },
  {
   "cell_type": "code",
   "execution_count": 12,
   "id": "b460fff6",
   "metadata": {},
   "outputs": [
    {
     "data": {
      "text/html": [
       "<div>\n",
       "<style scoped>\n",
       "    .dataframe tbody tr th:only-of-type {\n",
       "        vertical-align: middle;\n",
       "    }\n",
       "\n",
       "    .dataframe tbody tr th {\n",
       "        vertical-align: top;\n",
       "    }\n",
       "\n",
       "    .dataframe thead th {\n",
       "        text-align: right;\n",
       "    }\n",
       "</style>\n",
       "<table border=\"1\" class=\"dataframe\">\n",
       "  <thead>\n",
       "    <tr style=\"text-align: right;\">\n",
       "      <th></th>\n",
       "      <th>station</th>\n",
       "      <th>name</th>\n",
       "      <th>county</th>\n",
       "      <th>latitude</th>\n",
       "      <th>longitude</th>\n",
       "      <th>elevation</th>\n",
       "      <th>date</th>\n",
       "      <th>awnd</th>\n",
       "      <th>dapr</th>\n",
       "      <th>fmtm</th>\n",
       "      <th>...</th>\n",
       "      <th>sx36</th>\n",
       "      <th>wdmv</th>\n",
       "      <th>psun</th>\n",
       "      <th>tsun</th>\n",
       "      <th>mdsf</th>\n",
       "      <th>wt04</th>\n",
       "      <th>wt10</th>\n",
       "      <th>sn52</th>\n",
       "      <th>sx52</th>\n",
       "      <th>dasf</th>\n",
       "    </tr>\n",
       "  </thead>\n",
       "  <tbody>\n",
       "    <tr>\n",
       "      <th>0</th>\n",
       "      <td>USR0000OECK</td>\n",
       "      <td>ELK CREEK OREGON, OR US</td>\n",
       "      <td>BAKER</td>\n",
       "      <td>44.7578</td>\n",
       "      <td>-117.9711</td>\n",
       "      <td>2004.4</td>\n",
       "      <td>2008-01-01</td>\n",
       "      <td>NaN</td>\n",
       "      <td>NaN</td>\n",
       "      <td>NaN</td>\n",
       "      <td>...</td>\n",
       "      <td>NaN</td>\n",
       "      <td>NaN</td>\n",
       "      <td>NaN</td>\n",
       "      <td>NaN</td>\n",
       "      <td>NaN</td>\n",
       "      <td>NaN</td>\n",
       "      <td>NaN</td>\n",
       "      <td>NaN</td>\n",
       "      <td>NaN</td>\n",
       "      <td>NaN</td>\n",
       "    </tr>\n",
       "    <tr>\n",
       "      <th>1</th>\n",
       "      <td>USR0000OECK</td>\n",
       "      <td>ELK CREEK OREGON, OR US</td>\n",
       "      <td>BAKER</td>\n",
       "      <td>44.7578</td>\n",
       "      <td>-117.9711</td>\n",
       "      <td>2004.4</td>\n",
       "      <td>2008-01-02</td>\n",
       "      <td>NaN</td>\n",
       "      <td>NaN</td>\n",
       "      <td>NaN</td>\n",
       "      <td>...</td>\n",
       "      <td>NaN</td>\n",
       "      <td>NaN</td>\n",
       "      <td>NaN</td>\n",
       "      <td>NaN</td>\n",
       "      <td>NaN</td>\n",
       "      <td>NaN</td>\n",
       "      <td>NaN</td>\n",
       "      <td>NaN</td>\n",
       "      <td>NaN</td>\n",
       "      <td>NaN</td>\n",
       "    </tr>\n",
       "    <tr>\n",
       "      <th>2</th>\n",
       "      <td>USR0000OECK</td>\n",
       "      <td>ELK CREEK OREGON, OR US</td>\n",
       "      <td>BAKER</td>\n",
       "      <td>44.7578</td>\n",
       "      <td>-117.9711</td>\n",
       "      <td>2004.4</td>\n",
       "      <td>2008-01-03</td>\n",
       "      <td>NaN</td>\n",
       "      <td>NaN</td>\n",
       "      <td>NaN</td>\n",
       "      <td>...</td>\n",
       "      <td>NaN</td>\n",
       "      <td>NaN</td>\n",
       "      <td>NaN</td>\n",
       "      <td>NaN</td>\n",
       "      <td>NaN</td>\n",
       "      <td>NaN</td>\n",
       "      <td>NaN</td>\n",
       "      <td>NaN</td>\n",
       "      <td>NaN</td>\n",
       "      <td>NaN</td>\n",
       "    </tr>\n",
       "    <tr>\n",
       "      <th>3</th>\n",
       "      <td>USR0000OECK</td>\n",
       "      <td>ELK CREEK OREGON, OR US</td>\n",
       "      <td>BAKER</td>\n",
       "      <td>44.7578</td>\n",
       "      <td>-117.9711</td>\n",
       "      <td>2004.4</td>\n",
       "      <td>2008-01-04</td>\n",
       "      <td>NaN</td>\n",
       "      <td>NaN</td>\n",
       "      <td>NaN</td>\n",
       "      <td>...</td>\n",
       "      <td>NaN</td>\n",
       "      <td>NaN</td>\n",
       "      <td>NaN</td>\n",
       "      <td>NaN</td>\n",
       "      <td>NaN</td>\n",
       "      <td>NaN</td>\n",
       "      <td>NaN</td>\n",
       "      <td>NaN</td>\n",
       "      <td>NaN</td>\n",
       "      <td>NaN</td>\n",
       "    </tr>\n",
       "    <tr>\n",
       "      <th>4</th>\n",
       "      <td>USR0000OECK</td>\n",
       "      <td>ELK CREEK OREGON, OR US</td>\n",
       "      <td>BAKER</td>\n",
       "      <td>44.7578</td>\n",
       "      <td>-117.9711</td>\n",
       "      <td>2004.4</td>\n",
       "      <td>2008-01-05</td>\n",
       "      <td>NaN</td>\n",
       "      <td>NaN</td>\n",
       "      <td>NaN</td>\n",
       "      <td>...</td>\n",
       "      <td>NaN</td>\n",
       "      <td>NaN</td>\n",
       "      <td>NaN</td>\n",
       "      <td>NaN</td>\n",
       "      <td>NaN</td>\n",
       "      <td>NaN</td>\n",
       "      <td>NaN</td>\n",
       "      <td>NaN</td>\n",
       "      <td>NaN</td>\n",
       "      <td>NaN</td>\n",
       "    </tr>\n",
       "  </tbody>\n",
       "</table>\n",
       "<p>5 rows × 61 columns</p>\n",
       "</div>"
      ],
      "text/plain": [
       "       station                     name county  latitude  longitude  \\\n",
       "0  USR0000OECK  ELK CREEK OREGON, OR US  BAKER   44.7578  -117.9711   \n",
       "1  USR0000OECK  ELK CREEK OREGON, OR US  BAKER   44.7578  -117.9711   \n",
       "2  USR0000OECK  ELK CREEK OREGON, OR US  BAKER   44.7578  -117.9711   \n",
       "3  USR0000OECK  ELK CREEK OREGON, OR US  BAKER   44.7578  -117.9711   \n",
       "4  USR0000OECK  ELK CREEK OREGON, OR US  BAKER   44.7578  -117.9711   \n",
       "\n",
       "   elevation        date  awnd  dapr  fmtm  ...  sx36  wdmv  psun  tsun  mdsf  \\\n",
       "0     2004.4  2008-01-01   NaN   NaN   NaN  ...   NaN   NaN   NaN   NaN   NaN   \n",
       "1     2004.4  2008-01-02   NaN   NaN   NaN  ...   NaN   NaN   NaN   NaN   NaN   \n",
       "2     2004.4  2008-01-03   NaN   NaN   NaN  ...   NaN   NaN   NaN   NaN   NaN   \n",
       "3     2004.4  2008-01-04   NaN   NaN   NaN  ...   NaN   NaN   NaN   NaN   NaN   \n",
       "4     2004.4  2008-01-05   NaN   NaN   NaN  ...   NaN   NaN   NaN   NaN   NaN   \n",
       "\n",
       "   wt04  wt10  sn52  sx52  dasf  \n",
       "0   NaN   NaN   NaN   NaN   NaN  \n",
       "1   NaN   NaN   NaN   NaN   NaN  \n",
       "2   NaN   NaN   NaN   NaN   NaN  \n",
       "3   NaN   NaN   NaN   NaN   NaN  \n",
       "4   NaN   NaN   NaN   NaN   NaN  \n",
       "\n",
       "[5 rows x 61 columns]"
      ]
     },
     "execution_count": 12,
     "metadata": {},
     "output_type": "execute_result"
    }
   ],
   "source": [
    "# look at noaa df\n",
    "noaa_df.head()"
   ]
  },
  {
   "cell_type": "code",
   "execution_count": 4,
   "id": "9b2b6428",
   "metadata": {},
   "outputs": [
    {
     "data": {
      "text/html": [
       "<div>\n",
       "<style scoped>\n",
       "    .dataframe tbody tr th:only-of-type {\n",
       "        vertical-align: middle;\n",
       "    }\n",
       "\n",
       "    .dataframe tbody tr th {\n",
       "        vertical-align: top;\n",
       "    }\n",
       "\n",
       "    .dataframe thead th {\n",
       "        text-align: right;\n",
       "    }\n",
       "</style>\n",
       "<table border=\"1\" class=\"dataframe\">\n",
       "  <thead>\n",
       "    <tr style=\"text-align: right;\">\n",
       "      <th></th>\n",
       "      <th>fire_year</th>\n",
       "      <th>district</th>\n",
       "      <th>unit</th>\n",
       "      <th>fire_number</th>\n",
       "      <th>fire_name</th>\n",
       "      <th>legal</th>\n",
       "      <th>latitude</th>\n",
       "      <th>longitude</th>\n",
       "      <th>fuel_model</th>\n",
       "      <th>county</th>\n",
       "      <th>report_date</th>\n",
       "      <th>general_cause</th>\n",
       "      <th>odf_acres</th>\n",
       "      <th>total_acres</th>\n",
       "      <th>Latitude</th>\n",
       "      <th>Longitude</th>\n",
       "    </tr>\n",
       "  </thead>\n",
       "  <tbody>\n",
       "    <tr>\n",
       "      <th>0</th>\n",
       "      <td>2021</td>\n",
       "      <td>73 - Douglas</td>\n",
       "      <td>Central</td>\n",
       "      <td>470</td>\n",
       "      <td>Strickland Canyon</td>\n",
       "      <td>None</td>\n",
       "      <td>None</td>\n",
       "      <td>None</td>\n",
       "      <td>None</td>\n",
       "      <td>DOUGLAS</td>\n",
       "      <td>2021-05-17</td>\n",
       "      <td>Under Invest</td>\n",
       "      <td>0.01</td>\n",
       "      <td>NaN</td>\n",
       "      <td>NaN</td>\n",
       "      <td>NaN</td>\n",
       "    </tr>\n",
       "    <tr>\n",
       "      <th>1</th>\n",
       "      <td>2021</td>\n",
       "      <td>77 - South Cascade</td>\n",
       "      <td>East Lane</td>\n",
       "      <td>1</td>\n",
       "      <td>Holiday Farm 2</td>\n",
       "      <td>None</td>\n",
       "      <td>None</td>\n",
       "      <td>None</td>\n",
       "      <td>None</td>\n",
       "      <td>None</td>\n",
       "      <td>2021-07-01</td>\n",
       "      <td>Under Invest</td>\n",
       "      <td>1.00</td>\n",
       "      <td>NaN</td>\n",
       "      <td>NaN</td>\n",
       "      <td>NaN</td>\n",
       "    </tr>\n",
       "    <tr>\n",
       "      <th>2</th>\n",
       "      <td>2021</td>\n",
       "      <td>95 - Central Oregon</td>\n",
       "      <td>Sisters</td>\n",
       "      <td>61</td>\n",
       "      <td>Russell 0931</td>\n",
       "      <td>None</td>\n",
       "      <td>43°  40'  2</td>\n",
       "      <td>-121°  29'  40</td>\n",
       "      <td>None</td>\n",
       "      <td>None</td>\n",
       "      <td>2021-09-06</td>\n",
       "      <td>Under Invest</td>\n",
       "      <td>0.10</td>\n",
       "      <td>NaN</td>\n",
       "      <td>43.667222</td>\n",
       "      <td>-121.494444</td>\n",
       "    </tr>\n",
       "    <tr>\n",
       "      <th>3</th>\n",
       "      <td>2016</td>\n",
       "      <td>55 - West Oregon</td>\n",
       "      <td>Toledo</td>\n",
       "      <td>10</td>\n",
       "      <td>OAR Fire</td>\n",
       "      <td>T7S R11W S23 SWNW</td>\n",
       "      <td>44°  57'  13</td>\n",
       "      <td>-124°  0'  26</td>\n",
       "      <td>J</td>\n",
       "      <td>LINCOLN</td>\n",
       "      <td>2016-08-23</td>\n",
       "      <td>Smoking</td>\n",
       "      <td>0.10</td>\n",
       "      <td>0.10</td>\n",
       "      <td>44.953611</td>\n",
       "      <td>-124.007222</td>\n",
       "    </tr>\n",
       "    <tr>\n",
       "      <th>4</th>\n",
       "      <td>2016</td>\n",
       "      <td>72 - Coos</td>\n",
       "      <td>Bridge</td>\n",
       "      <td>178</td>\n",
       "      <td>Ashur Flat</td>\n",
       "      <td>T31S R9W S30 SENW</td>\n",
       "      <td>42°  50'  46</td>\n",
       "      <td>-123°  49'  9</td>\n",
       "      <td>H</td>\n",
       "      <td>DOUGLAS</td>\n",
       "      <td>2016-06-13</td>\n",
       "      <td>Equipment Use</td>\n",
       "      <td>0.01</td>\n",
       "      <td>0.01</td>\n",
       "      <td>42.846111</td>\n",
       "      <td>-123.819167</td>\n",
       "    </tr>\n",
       "  </tbody>\n",
       "</table>\n",
       "</div>"
      ],
      "text/plain": [
       "   fire_year             district       unit fire_number          fire_name  \\\n",
       "0       2021         73 - Douglas    Central         470  Strickland Canyon   \n",
       "1       2021   77 - South Cascade  East Lane           1     Holiday Farm 2   \n",
       "2       2021  95 - Central Oregon    Sisters          61       Russell 0931   \n",
       "3       2016     55 - West Oregon     Toledo          10           OAR Fire   \n",
       "4       2016            72 - Coos     Bridge         178         Ashur Flat   \n",
       "\n",
       "               legal      latitude       longitude fuel_model   county  \\\n",
       "0               None          None            None       None  DOUGLAS   \n",
       "1               None          None            None       None     None   \n",
       "2               None   43°  40'  2  -121°  29'  40       None     None   \n",
       "3  T7S R11W S23 SWNW  44°  57'  13   -124°  0'  26          J  LINCOLN   \n",
       "4  T31S R9W S30 SENW  42°  50'  46   -123°  49'  9          H  DOUGLAS   \n",
       "\n",
       "  report_date  general_cause  odf_acres  total_acres   Latitude   Longitude  \n",
       "0  2021-05-17   Under Invest       0.01          NaN        NaN         NaN  \n",
       "1  2021-07-01   Under Invest       1.00          NaN        NaN         NaN  \n",
       "2  2021-09-06   Under Invest       0.10          NaN  43.667222 -121.494444  \n",
       "3  2016-08-23        Smoking       0.10         0.10  44.953611 -124.007222  \n",
       "4  2016-06-13  Equipment Use       0.01         0.01  42.846111 -123.819167  "
      ]
     },
     "execution_count": 4,
     "metadata": {},
     "output_type": "execute_result"
    }
   ],
   "source": [
    "# Alt Function to convert DMS to Decimal\n",
    "\n",
    "#def dms_to_dd(d, m, s):\n",
    "    #dd = d + float(m)/60 + float(s)/3600\n",
    "    #return dd\n",
    "\n",
    "# Converting Lat/Long DMS to Decimal\n",
    "pattern = r'(?P<d>[\\d\\.]+).*?(?P<m>[\\d\\.]+).*?(?P<s>[\\d\\.]+)'\n",
    "\n",
    "#Lat\n",
    "dms = fire_df['latitude'].str.extract(pattern).astype(float)\n",
    "fire_df['Latitude'] = dms['d'] + dms['m'].div(60) + dms['s'].div(3600)\n",
    "\n",
    "#Long  \n",
    "dms = fire_df['longitude'].str.extract(pattern).astype(float)\n",
    "fire_df['Longitude'] = dms['d'] + dms['m'].div(60) + dms['s'].div(3600)\n",
    "\n",
    "# Convert all Longtiude to Negative\n",
    "fire_df['Longitude'] *= -1\n",
    "\n",
    "fire_df.head(5)"
   ]
  },
  {
   "cell_type": "code",
   "execution_count": 5,
   "id": "1183bed5",
   "metadata": {},
   "outputs": [
    {
     "data": {
      "text/html": [
       "<div>\n",
       "<style scoped>\n",
       "    .dataframe tbody tr th:only-of-type {\n",
       "        vertical-align: middle;\n",
       "    }\n",
       "\n",
       "    .dataframe tbody tr th {\n",
       "        vertical-align: top;\n",
       "    }\n",
       "\n",
       "    .dataframe thead th {\n",
       "        text-align: right;\n",
       "    }\n",
       "</style>\n",
       "<table border=\"1\" class=\"dataframe\">\n",
       "  <thead>\n",
       "    <tr style=\"text-align: right;\">\n",
       "      <th></th>\n",
       "      <th>fire_year</th>\n",
       "      <th>district</th>\n",
       "      <th>unit</th>\n",
       "      <th>fire_number</th>\n",
       "      <th>fire_name</th>\n",
       "      <th>legal</th>\n",
       "      <th>fuel_model</th>\n",
       "      <th>county</th>\n",
       "      <th>report_date</th>\n",
       "      <th>general_cause</th>\n",
       "      <th>total_acres</th>\n",
       "      <th>Latitude</th>\n",
       "      <th>Longitude</th>\n",
       "    </tr>\n",
       "  </thead>\n",
       "  <tbody>\n",
       "    <tr>\n",
       "      <th>0</th>\n",
       "      <td>2021</td>\n",
       "      <td>73 - Douglas</td>\n",
       "      <td>Central</td>\n",
       "      <td>470</td>\n",
       "      <td>Strickland Canyon</td>\n",
       "      <td>None</td>\n",
       "      <td>None</td>\n",
       "      <td>DOUGLAS</td>\n",
       "      <td>2021-05-17</td>\n",
       "      <td>Under Invest</td>\n",
       "      <td>NaN</td>\n",
       "      <td>NaN</td>\n",
       "      <td>NaN</td>\n",
       "    </tr>\n",
       "    <tr>\n",
       "      <th>1</th>\n",
       "      <td>2021</td>\n",
       "      <td>77 - South Cascade</td>\n",
       "      <td>East Lane</td>\n",
       "      <td>1</td>\n",
       "      <td>Holiday Farm 2</td>\n",
       "      <td>None</td>\n",
       "      <td>None</td>\n",
       "      <td>None</td>\n",
       "      <td>2021-07-01</td>\n",
       "      <td>Under Invest</td>\n",
       "      <td>NaN</td>\n",
       "      <td>NaN</td>\n",
       "      <td>NaN</td>\n",
       "    </tr>\n",
       "    <tr>\n",
       "      <th>2</th>\n",
       "      <td>2021</td>\n",
       "      <td>95 - Central Oregon</td>\n",
       "      <td>Sisters</td>\n",
       "      <td>61</td>\n",
       "      <td>Russell 0931</td>\n",
       "      <td>None</td>\n",
       "      <td>None</td>\n",
       "      <td>None</td>\n",
       "      <td>2021-09-06</td>\n",
       "      <td>Under Invest</td>\n",
       "      <td>NaN</td>\n",
       "      <td>43.667222</td>\n",
       "      <td>-121.494444</td>\n",
       "    </tr>\n",
       "    <tr>\n",
       "      <th>3</th>\n",
       "      <td>2016</td>\n",
       "      <td>55 - West Oregon</td>\n",
       "      <td>Toledo</td>\n",
       "      <td>10</td>\n",
       "      <td>OAR Fire</td>\n",
       "      <td>T7S R11W S23 SWNW</td>\n",
       "      <td>J</td>\n",
       "      <td>LINCOLN</td>\n",
       "      <td>2016-08-23</td>\n",
       "      <td>Smoking</td>\n",
       "      <td>0.10</td>\n",
       "      <td>44.953611</td>\n",
       "      <td>-124.007222</td>\n",
       "    </tr>\n",
       "    <tr>\n",
       "      <th>4</th>\n",
       "      <td>2016</td>\n",
       "      <td>72 - Coos</td>\n",
       "      <td>Bridge</td>\n",
       "      <td>178</td>\n",
       "      <td>Ashur Flat</td>\n",
       "      <td>T31S R9W S30 SENW</td>\n",
       "      <td>H</td>\n",
       "      <td>DOUGLAS</td>\n",
       "      <td>2016-06-13</td>\n",
       "      <td>Equipment Use</td>\n",
       "      <td>0.01</td>\n",
       "      <td>42.846111</td>\n",
       "      <td>-123.819167</td>\n",
       "    </tr>\n",
       "  </tbody>\n",
       "</table>\n",
       "</div>"
      ],
      "text/plain": [
       "   fire_year             district       unit fire_number          fire_name  \\\n",
       "0       2021         73 - Douglas    Central         470  Strickland Canyon   \n",
       "1       2021   77 - South Cascade  East Lane           1     Holiday Farm 2   \n",
       "2       2021  95 - Central Oregon    Sisters          61       Russell 0931   \n",
       "3       2016     55 - West Oregon     Toledo          10           OAR Fire   \n",
       "4       2016            72 - Coos     Bridge         178         Ashur Flat   \n",
       "\n",
       "               legal fuel_model   county report_date  general_cause  \\\n",
       "0               None       None  DOUGLAS  2021-05-17   Under Invest   \n",
       "1               None       None     None  2021-07-01   Under Invest   \n",
       "2               None       None     None  2021-09-06   Under Invest   \n",
       "3  T7S R11W S23 SWNW          J  LINCOLN  2016-08-23        Smoking   \n",
       "4  T31S R9W S30 SENW          H  DOUGLAS  2016-06-13  Equipment Use   \n",
       "\n",
       "   total_acres   Latitude   Longitude  \n",
       "0          NaN        NaN         NaN  \n",
       "1          NaN        NaN         NaN  \n",
       "2          NaN  43.667222 -121.494444  \n",
       "3         0.10  44.953611 -124.007222  \n",
       "4         0.01  42.846111 -123.819167  "
      ]
     },
     "execution_count": 5,
     "metadata": {},
     "output_type": "execute_result"
    }
   ],
   "source": [
    "# Drop DMS Lat/Long/odf_acres\n",
    "fire_df = fire_df.drop(['latitude', 'longitude', \"odf_acres\"], axis=1)\n",
    "# Confirm Dropped Columns\n",
    "fire_df.head(5)"
   ]
  },
  {
   "cell_type": "code",
   "execution_count": 6,
   "id": "4dbc62c0",
   "metadata": {},
   "outputs": [],
   "source": [
    "# Drop the null columns where all values are null\n",
    "fire_df = fire_df.dropna(axis='columns', how='all')\n",
    "\n",
    "# Drop the null rows\n",
    "fire_df = fire_df.dropna()"
   ]
  },
  {
   "cell_type": "markdown",
   "id": "81c7b4e6",
   "metadata": {},
   "source": [
    "# Are fires increasing over time?"
   ]
  },
  {
   "cell_type": "code",
   "execution_count": 7,
   "id": "cdc52624",
   "metadata": {},
   "outputs": [
    {
     "data": {
      "text/plain": [
       "<AxesSubplot:xlabel='fire_year'>"
      ]
     },
     "execution_count": 7,
     "metadata": {},
     "output_type": "execute_result"
    },
    {
     "data": {
      "image/png": "[encoded data removed]",
      "text/plain": [
       "<Figure size 432x288 with 1 Axes>"
      ]
     },
     "metadata": {
      "needs_background": "light"
     },
     "output_type": "display_data"
    }
   ],
   "source": [
    "# Group fires by fire_year and see how many fires occur each year and visualize this on a line plot\n",
    "fire_count = fire_df[['fire_year', 'fire_name']]\n",
    "fire_count = fire_count.groupby('fire_year').count()\n",
    "fire_count.plot.line(legend=None)\n"
   ]
  },
  {
   "cell_type": "markdown",
   "id": "ebcc4d00",
   "metadata": {},
   "source": [
    "### The number of fires seems to be decreasing over time, but what about the number of acres burned is this decreasing over time as well?"
   ]
  },
  {
   "cell_type": "code",
   "execution_count": 8,
   "id": "80c03e11",
   "metadata": {},
   "outputs": [
    {
     "data": {
      "text/plain": [
       "<AxesSubplot:xlabel='fire_year'>"
      ]
     },
     "execution_count": 8,
     "metadata": {},
     "output_type": "execute_result"
    },
    {
     "data": {
      "image/png": "[encoded data removed]",
      "text/plain": [
       "<Figure size 432x288 with 1 Axes>"
      ]
     },
     "metadata": {
      "needs_background": "light"
     },
     "output_type": "display_data"
    }
   ],
   "source": [
    "# Group fires by year and sume the acres burned each year then visualize in a line plot\n",
    "acres_sum = fire_df[['fire_year', 'total_acres']]\n",
    "acres_sum = acres_sum.groupby('fire_year').sum('total_acres')\n",
    "acres_sum.plot.line()"
   ]
  },
  {
   "cell_type": "markdown",
   "id": "b676f216",
   "metadata": {},
   "source": [
    "### The number of acres burned seems to be increasing over time with many more acres burned between 2010 and 2020 than previous with the exception of 2002."
   ]
  },
  {
   "cell_type": "markdown",
   "id": "08246b2a",
   "metadata": {},
   "source": [
    "# How does one county compare to another in number of fires? Could this impact fire severity?"
   ]
  },
  {
   "cell_type": "code",
   "execution_count": 8,
   "id": "30e391b7",
   "metadata": {},
   "outputs": [
    {
     "data": {
      "text/plain": [
       "<AxesSubplot:xlabel='county'>"
      ]
     },
     "execution_count": 8,
     "metadata": {},
     "output_type": "execute_result"
    },
    {
     "data": {
      "image/png": "[encoded data removed]",
      "text/plain": [
       "<Figure size 432x288 with 1 Axes>"
      ]
     },
     "metadata": {
      "needs_background": "light"
     },
     "output_type": "display_data"
    }
   ],
   "source": [
    "# Group by county and visualize number of fires burned in bar graph\n",
    "county_count = fire_df[['county', 'fire_name']]\n",
    "county_count = county_count.groupby('county').count()\n",
    "county_count.plot.bar(legend=None)"
   ]
  },
  {
   "cell_type": "code",
   "execution_count": 10,
   "id": "b1b9118a",
   "metadata": {},
   "outputs": [
    {
     "data": {
      "text/plain": [
       "<AxesSubplot:xlabel='county'>"
      ]
     },
     "execution_count": 10,
     "metadata": {},
     "output_type": "execute_result"
    },
    {
     "data": {
      "image/png": "[encoded data removed]",
      "text/plain": [
       "<Figure size 432x288 with 1 Axes>"
      ]
     },
     "metadata": {
      "needs_background": "light"
     },
     "output_type": "display_data"
    }
   ],
   "source": [
    "# Group by county and visualize number of average number of acres burned in bar graph\n",
    "county_count_mean = (fire_df.groupby(['county', 'total_acres'], as_index=False).mean().groupby('county')['total_acres'].mean())\n",
    "county_count_mean.plot.bar()\n"
   ]
  },
  {
   "cell_type": "markdown",
   "id": "99593a93",
   "metadata": {},
   "source": [
    "#### There are only a few counties where avg acres burned is really high? Should we consider looking at only these counties?"
   ]
  },
  {
   "cell_type": "code",
   "execution_count": 20,
   "id": "7ca6adff",
   "metadata": {},
   "outputs": [
    {
     "data": {
      "text/plain": [
       "<AxesSubplot:>"
      ]
     },
     "execution_count": 20,
     "metadata": {},
     "output_type": "execute_result"
    },
    {
     "data": {
      "image/png": "[encoded data removed]",
      "text/plain": [
       "<Figure size 432x288 with 1 Axes>"
      ]
     },
     "metadata": {
      "needs_background": "light"
     },
     "output_type": "display_data"
    }
   ],
   "source": [
    "# See boxplot of acres burned by county\n",
    "fire_df.assign(index=fire_df.groupby('county').cumcount()).pivot('index','county','total_acres').plot(kind='box', rot=90)\n"
   ]
  },
  {
   "cell_type": "markdown",
   "id": "b9f55ee0",
   "metadata": {},
   "source": [
    "### Question\n",
    "#### Should we consider correlating county with fuel type?"
   ]
  },
  {
   "cell_type": "markdown",
   "id": "ea9ee582",
   "metadata": {},
   "source": [
    "# Could fuel type effect the number of acres burned?\n",
    "\n",
    "## Visualize the fuel models against acres burned"
   ]
  },
  {
   "cell_type": "code",
   "execution_count": 13,
   "id": "13f25bd8",
   "metadata": {},
   "outputs": [
    {
     "data": {
      "text/plain": [
       "<AxesSubplot:>"
      ]
     },
     "execution_count": 13,
     "metadata": {},
     "output_type": "execute_result"
    },
    {
     "data": {
      "image/png": "[encoded data removed]",
      "text/plain": [
       "<Figure size 432x288 with 1 Axes>"
      ]
     },
     "metadata": {
      "needs_background": "light"
     },
     "output_type": "display_data"
    }
   ],
   "source": [
    "# Boxplot of fuel model vs acres burned\n",
    "fire_df.assign(index=fire_df.groupby('fuel_model').cumcount()).pivot('index','fuel_model','total_acres').plot(kind='box')\n"
   ]
  },
  {
   "cell_type": "code",
   "execution_count": 77,
   "id": "a9b594d3",
   "metadata": {},
   "outputs": [
    {
     "data": {
      "text/html": [
       "<div>\n",
       "<style scoped>\n",
       "    .dataframe tbody tr th:only-of-type {\n",
       "        vertical-align: middle;\n",
       "    }\n",
       "\n",
       "    .dataframe tbody tr th {\n",
       "        vertical-align: top;\n",
       "    }\n",
       "\n",
       "    .dataframe thead tr th {\n",
       "        text-align: left;\n",
       "    }\n",
       "\n",
       "    .dataframe thead tr:last-of-type th {\n",
       "        text-align: right;\n",
       "    }\n",
       "</style>\n",
       "<table border=\"1\" class=\"dataframe\">\n",
       "  <thead>\n",
       "    <tr>\n",
       "      <th></th>\n",
       "      <th colspan=\"8\" halign=\"left\">total_acres</th>\n",
       "    </tr>\n",
       "    <tr>\n",
       "      <th></th>\n",
       "      <th>count</th>\n",
       "      <th>mean</th>\n",
       "      <th>std</th>\n",
       "      <th>min</th>\n",
       "      <th>25%</th>\n",
       "      <th>50%</th>\n",
       "      <th>75%</th>\n",
       "      <th>max</th>\n",
       "    </tr>\n",
       "    <tr>\n",
       "      <th>fuel_model</th>\n",
       "      <th></th>\n",
       "      <th></th>\n",
       "      <th></th>\n",
       "      <th></th>\n",
       "      <th></th>\n",
       "      <th></th>\n",
       "      <th></th>\n",
       "      <th></th>\n",
       "    </tr>\n",
       "  </thead>\n",
       "  <tbody>\n",
       "    <tr>\n",
       "      <th>A</th>\n",
       "      <td>5784.0</td>\n",
       "      <td>69.107469</td>\n",
       "      <td>1419.371967</td>\n",
       "      <td>0.00</td>\n",
       "      <td>0.010</td>\n",
       "      <td>0.10</td>\n",
       "      <td>0.5000</td>\n",
       "      <td>68135.00</td>\n",
       "    </tr>\n",
       "    <tr>\n",
       "      <th>B</th>\n",
       "      <td>248.0</td>\n",
       "      <td>194.374960</td>\n",
       "      <td>2448.617723</td>\n",
       "      <td>0.01</td>\n",
       "      <td>0.095</td>\n",
       "      <td>0.25</td>\n",
       "      <td>1.0000</td>\n",
       "      <td>38050.00</td>\n",
       "    </tr>\n",
       "    <tr>\n",
       "      <th>C</th>\n",
       "      <td>7104.0</td>\n",
       "      <td>188.716601</td>\n",
       "      <td>3411.752358</td>\n",
       "      <td>0.00</td>\n",
       "      <td>0.020</td>\n",
       "      <td>0.10</td>\n",
       "      <td>0.3500</td>\n",
       "      <td>152270.00</td>\n",
       "    </tr>\n",
       "    <tr>\n",
       "      <th>F</th>\n",
       "      <td>2294.0</td>\n",
       "      <td>21.632280</td>\n",
       "      <td>419.076203</td>\n",
       "      <td>0.00</td>\n",
       "      <td>0.010</td>\n",
       "      <td>0.10</td>\n",
       "      <td>0.5000</td>\n",
       "      <td>13119.00</td>\n",
       "    </tr>\n",
       "    <tr>\n",
       "      <th>G</th>\n",
       "      <td>1438.0</td>\n",
       "      <td>1628.388032</td>\n",
       "      <td>21076.162526</td>\n",
       "      <td>0.00</td>\n",
       "      <td>0.010</td>\n",
       "      <td>0.10</td>\n",
       "      <td>0.2500</td>\n",
       "      <td>499945.00</td>\n",
       "    </tr>\n",
       "    <tr>\n",
       "      <th>H</th>\n",
       "      <td>5486.0</td>\n",
       "      <td>157.266850</td>\n",
       "      <td>3806.738172</td>\n",
       "      <td>0.00</td>\n",
       "      <td>0.010</td>\n",
       "      <td>0.10</td>\n",
       "      <td>0.2500</td>\n",
       "      <td>204469.00</td>\n",
       "    </tr>\n",
       "    <tr>\n",
       "      <th>I</th>\n",
       "      <td>701.0</td>\n",
       "      <td>8.087589</td>\n",
       "      <td>53.839096</td>\n",
       "      <td>0.00</td>\n",
       "      <td>0.010</td>\n",
       "      <td>0.10</td>\n",
       "      <td>0.6300</td>\n",
       "      <td>1080.00</td>\n",
       "    </tr>\n",
       "    <tr>\n",
       "      <th>J</th>\n",
       "      <td>2058.0</td>\n",
       "      <td>22.972881</td>\n",
       "      <td>448.776017</td>\n",
       "      <td>0.00</td>\n",
       "      <td>0.030</td>\n",
       "      <td>0.15</td>\n",
       "      <td>1.5000</td>\n",
       "      <td>16436.00</td>\n",
       "    </tr>\n",
       "    <tr>\n",
       "      <th>K</th>\n",
       "      <td>921.0</td>\n",
       "      <td>1.818947</td>\n",
       "      <td>13.668347</td>\n",
       "      <td>0.00</td>\n",
       "      <td>0.010</td>\n",
       "      <td>0.10</td>\n",
       "      <td>0.5000</td>\n",
       "      <td>348.00</td>\n",
       "    </tr>\n",
       "    <tr>\n",
       "      <th>L</th>\n",
       "      <td>3669.0</td>\n",
       "      <td>97.946650</td>\n",
       "      <td>1988.583573</td>\n",
       "      <td>0.00</td>\n",
       "      <td>0.010</td>\n",
       "      <td>0.10</td>\n",
       "      <td>0.6000</td>\n",
       "      <td>73500.00</td>\n",
       "    </tr>\n",
       "    <tr>\n",
       "      <th>R</th>\n",
       "      <td>1024.0</td>\n",
       "      <td>16.696553</td>\n",
       "      <td>353.240208</td>\n",
       "      <td>0.00</td>\n",
       "      <td>0.010</td>\n",
       "      <td>0.10</td>\n",
       "      <td>0.7275</td>\n",
       "      <td>11141.06</td>\n",
       "    </tr>\n",
       "    <tr>\n",
       "      <th>T</th>\n",
       "      <td>512.0</td>\n",
       "      <td>163.645840</td>\n",
       "      <td>2524.484654</td>\n",
       "      <td>0.00</td>\n",
       "      <td>0.100</td>\n",
       "      <td>0.22</td>\n",
       "      <td>2.4250</td>\n",
       "      <td>56766.20</td>\n",
       "    </tr>\n",
       "    <tr>\n",
       "      <th>U</th>\n",
       "      <td>413.0</td>\n",
       "      <td>186.104843</td>\n",
       "      <td>2613.835428</td>\n",
       "      <td>0.01</td>\n",
       "      <td>0.100</td>\n",
       "      <td>0.10</td>\n",
       "      <td>0.4000</td>\n",
       "      <td>50951.00</td>\n",
       "    </tr>\n",
       "    <tr>\n",
       "      <th>X</th>\n",
       "      <td>2103.0</td>\n",
       "      <td>0.542183</td>\n",
       "      <td>7.449650</td>\n",
       "      <td>0.00</td>\n",
       "      <td>0.010</td>\n",
       "      <td>0.01</td>\n",
       "      <td>0.1000</td>\n",
       "      <td>200.00</td>\n",
       "    </tr>\n",
       "  </tbody>\n",
       "</table>\n",
       "</div>"
      ],
      "text/plain": [
       "           total_acres                                                        \\\n",
       "                 count         mean           std   min    25%   50%     75%   \n",
       "fuel_model                                                                     \n",
       "A               5784.0    69.107469   1419.371967  0.00  0.010  0.10  0.5000   \n",
       "B                248.0   194.374960   2448.617723  0.01  0.095  0.25  1.0000   \n",
       "C               7104.0   188.716601   3411.752358  0.00  0.020  0.10  0.3500   \n",
       "F               2294.0    21.632280    419.076203  0.00  0.010  0.10  0.5000   \n",
       "G               1438.0  1628.388032  21076.162526  0.00  0.010  0.10  0.2500   \n",
       "H               5486.0   157.266850   3806.738172  0.00  0.010  0.10  0.2500   \n",
       "I                701.0     8.087589     53.839096  0.00  0.010  0.10  0.6300   \n",
       "J               2058.0    22.972881    448.776017  0.00  0.030  0.15  1.5000   \n",
       "K                921.0     1.818947     13.668347  0.00  0.010  0.10  0.5000   \n",
       "L               3669.0    97.946650   1988.583573  0.00  0.010  0.10  0.6000   \n",
       "R               1024.0    16.696553    353.240208  0.00  0.010  0.10  0.7275   \n",
       "T                512.0   163.645840   2524.484654  0.00  0.100  0.22  2.4250   \n",
       "U                413.0   186.104843   2613.835428  0.01  0.100  0.10  0.4000   \n",
       "X               2103.0     0.542183      7.449650  0.00  0.010  0.01  0.1000   \n",
       "\n",
       "                       \n",
       "                  max  \n",
       "fuel_model             \n",
       "A            68135.00  \n",
       "B            38050.00  \n",
       "C           152270.00  \n",
       "F            13119.00  \n",
       "G           499945.00  \n",
       "H           204469.00  \n",
       "I             1080.00  \n",
       "J            16436.00  \n",
       "K              348.00  \n",
       "L            73500.00  \n",
       "R            11141.06  \n",
       "T            56766.20  \n",
       "U            50951.00  \n",
       "X              200.00  "
      ]
     },
     "execution_count": 77,
     "metadata": {},
     "output_type": "execute_result"
    }
   ],
   "source": [
    "# Drop columns that are inconsequential and see stats for fuel model vs total acres\n",
    "fire_fuel = fire_df.drop(['fire_year', \"Latitude\", 'Longitude'], axis=1)\n",
    "fire_fuel.groupby('fuel_model').describe()"
   ]
  },
  {
   "cell_type": "markdown",
   "id": "6cab7769",
   "metadata": {},
   "source": [
    "#### The fire that burned 500,000 acres could be skewing the data, drop to see if this changes the visual and see if we can see a pattern in the rest of the data"
   ]
  },
  {
   "cell_type": "code",
   "execution_count": 66,
   "id": "d356e14e",
   "metadata": {},
   "outputs": [
    {
     "data": {
      "text/plain": [
       "<AxesSubplot:>"
      ]
     },
     "execution_count": 66,
     "metadata": {},
     "output_type": "execute_result"
    },
    {
     "data": {
      "image/png": "[encoded data removed]",
      "text/plain": [
       "<Figure size 432x288 with 1 Axes>"
      ]
     },
     "metadata": {
      "needs_background": "light"
     },
     "output_type": "display_data"
    }
   ],
   "source": [
    "# Drop fire burning more than 300,000 acres (this removed 2 fires)\n",
    "fire_df_removed = fire_df[fire_df['total_acres'] < 300000]\n",
    "fire_df_removed.assign(index=fire_df_removed.groupby('fuel_model').cumcount()).pivot('index','fuel_model','total_acres').plot(kind='box')\n"
   ]
  },
  {
   "cell_type": "markdown",
   "id": "9a7a1f54",
   "metadata": {},
   "source": [
    "## What if we just look at fires that burned more than 100,000 acres and compare those fuel types? Will we see any differences?"
   ]
  },
  {
   "cell_type": "code",
   "execution_count": 23,
   "id": "972879bb",
   "metadata": {},
   "outputs": [
    {
     "data": {
      "text/plain": [
       "<AxesSubplot:>"
      ]
     },
     "execution_count": 23,
     "metadata": {},
     "output_type": "execute_result"
    },
    {
     "data": {
      "image/png": "[encoded data removed]",
      "text/plain": [
       "<Figure size 432x288 with 1 Axes>"
      ]
     },
     "metadata": {
      "needs_background": "light"
     },
     "output_type": "display_data"
    }
   ],
   "source": [
    "# Drop fires less than 100,000 acres and make boxplot by by fuel type\n",
    "fire_df_reallybigfires = fire_df[fire_df['total_acres'] > 100000]\n",
    "fire_df_reallybigfires.assign(index=fire_df_reallybigfires.groupby('fuel_model').cumcount()).pivot('index','fuel_model','total_acres').plot(kind='box')\n",
    "\n"
   ]
  },
  {
   "cell_type": "code",
   "execution_count": 25,
   "id": "f9cf3394",
   "metadata": {},
   "outputs": [
    {
     "data": {
      "text/html": [
       "<div>\n",
       "<style scoped>\n",
       "    .dataframe tbody tr th:only-of-type {\n",
       "        vertical-align: middle;\n",
       "    }\n",
       "\n",
       "    .dataframe tbody tr th {\n",
       "        vertical-align: top;\n",
       "    }\n",
       "\n",
       "    .dataframe thead tr th {\n",
       "        text-align: left;\n",
       "    }\n",
       "\n",
       "    .dataframe thead tr:last-of-type th {\n",
       "        text-align: right;\n",
       "    }\n",
       "</style>\n",
       "<table border=\"1\" class=\"dataframe\">\n",
       "  <thead>\n",
       "    <tr>\n",
       "      <th></th>\n",
       "      <th colspan=\"8\" halign=\"left\">total_acres</th>\n",
       "    </tr>\n",
       "    <tr>\n",
       "      <th></th>\n",
       "      <th>count</th>\n",
       "      <th>mean</th>\n",
       "      <th>std</th>\n",
       "      <th>min</th>\n",
       "      <th>25%</th>\n",
       "      <th>50%</th>\n",
       "      <th>75%</th>\n",
       "      <th>max</th>\n",
       "    </tr>\n",
       "    <tr>\n",
       "      <th>fuel_model</th>\n",
       "      <th></th>\n",
       "      <th></th>\n",
       "      <th></th>\n",
       "      <th></th>\n",
       "      <th></th>\n",
       "      <th></th>\n",
       "      <th></th>\n",
       "      <th></th>\n",
       "    </tr>\n",
       "  </thead>\n",
       "  <tbody>\n",
       "    <tr>\n",
       "      <th>C</th>\n",
       "      <td>2.0</td>\n",
       "      <td>146315.0</td>\n",
       "      <td>8421.641764</td>\n",
       "      <td>140360.0</td>\n",
       "      <td>143337.50</td>\n",
       "      <td>146315.0</td>\n",
       "      <td>149292.50</td>\n",
       "      <td>152270.0</td>\n",
       "    </tr>\n",
       "    <tr>\n",
       "      <th>G</th>\n",
       "      <td>6.0</td>\n",
       "      <td>276722.0</td>\n",
       "      <td>176155.602891</td>\n",
       "      <td>101028.0</td>\n",
       "      <td>179091.00</td>\n",
       "      <td>192078.0</td>\n",
       "      <td>423350.25</td>\n",
       "      <td>499945.0</td>\n",
       "    </tr>\n",
       "    <tr>\n",
       "      <th>H</th>\n",
       "      <td>2.0</td>\n",
       "      <td>171261.5</td>\n",
       "      <td>46962.496873</td>\n",
       "      <td>138054.0</td>\n",
       "      <td>154657.75</td>\n",
       "      <td>171261.5</td>\n",
       "      <td>187865.25</td>\n",
       "      <td>204469.0</td>\n",
       "    </tr>\n",
       "  </tbody>\n",
       "</table>\n",
       "</div>"
      ],
      "text/plain": [
       "           total_acres                                                \\\n",
       "                 count      mean            std       min        25%   \n",
       "fuel_model                                                             \n",
       "C                  2.0  146315.0    8421.641764  140360.0  143337.50   \n",
       "G                  6.0  276722.0  176155.602891  101028.0  179091.00   \n",
       "H                  2.0  171261.5   46962.496873  138054.0  154657.75   \n",
       "\n",
       "                                           \n",
       "                 50%        75%       max  \n",
       "fuel_model                                 \n",
       "C           146315.0  149292.50  152270.0  \n",
       "G           192078.0  423350.25  499945.0  \n",
       "H           171261.5  187865.25  204469.0  "
      ]
     },
     "execution_count": 25,
     "metadata": {},
     "output_type": "execute_result"
    }
   ],
   "source": [
    "# Drop inconsequential columns and see stats for total acres per fuel model. Did this change much after \n",
    "# removing fires above 300,000 acres?\n",
    "fire_fuel_reallybigfires_stats = fire_df_reallybigfires.drop(['fire_year','Latitude', 'Longitude'], axis=1)\n",
    "fire_fuel_reallybigfires_stats.groupby('fuel_model').describe()"
   ]
  },
  {
   "cell_type": "markdown",
   "id": "11ad916b",
   "metadata": {},
   "source": [
    "### Questions\n",
    "1) There are over 7,000 fires for fire model C and over 5,000 for fire model A & H. Could these fuel types have a greater impact on fire severity?\n",
    "2) Fuel type G still shows the highest mean acres burned (over 900 acres). Maybe this fuel type is related to greater fire severity?\n",
    "3) When looking at fires that burned over 100,000 acres, fuel types C, G, and H are they only fuel types that show in the data.\n",
    "\n",
    "#### Run Random Forest Classifier to see how these fuel models relate to outcomes\n",
    "#### Give each fire a severity level for predictions\n"
   ]
  },
  {
   "cell_type": "markdown",
   "id": "8fd76a7b",
   "metadata": {},
   "source": [
    "# Begin Prepping data for ML models"
   ]
  },
  {
   "cell_type": "code",
   "execution_count": 82,
   "id": "a0aba2bf",
   "metadata": {},
   "outputs": [],
   "source": [
    "# Import LE to convert Fuel Model and General Cause to Numeric Values\n",
    "from sklearn.preprocessing import LabelEncoder\n",
    "le = LabelEncoder()\n",
    "\n",
    "# Converting Fuel Model to Numeric\n",
    "label_encoder = LabelEncoder()\n",
    "fire_df[\"fueltype_num\"] = label_encoder.fit_transform(fire_df[\"fuel_model\"])"
   ]
  },
  {
   "cell_type": "code",
   "execution_count": 83,
   "id": "4fe68988",
   "metadata": {},
   "outputs": [],
   "source": [
    "# Converting General Cause to Numeric \n",
    "label_encoder = LabelEncoder()\n",
    "fire_df[\"generalCause_num\"] = label_encoder.fit_transform(fire_df[\"general_cause\"])"
   ]
  },
  {
   "cell_type": "code",
   "execution_count": 84,
   "id": "bd5b2e04",
   "metadata": {},
   "outputs": [],
   "source": [
    "#Drop All Row where Total Acres is less then 1\n",
    "#fire_df.drop(fire_df[fire_df.total_acres < 1].index, inplace=True)\n",
    "#fire_df.head(20)"
   ]
  },
  {
   "cell_type": "code",
   "execution_count": 85,
   "id": "b413bc9d",
   "metadata": {},
   "outputs": [],
   "source": [
    "# Set and Classify Fire Sizes\n",
    "fire_df.loc[fire_df['total_acres'] <= 10, 'fire_severity'] = 1\n",
    "fire_df.loc[(fire_df['total_acres'] > 10) & (fire_df['total_acres'] <= 100), 'fire_severity'] = 2\n",
    "fire_df.loc[(fire_df['total_acres'] > 100) & (fire_df['total_acres'] <= 1000), 'fire_severity'] = 3\n",
    "fire_df.loc[(fire_df['total_acres'] > 1000) & (fire_df['total_acres'] <= 10000), 'fire_severity'] = 4\n",
    "fire_df.loc[fire_df['total_acres'] > 10000, 'fire_severity'] = 5                                                    "
   ]
  },
  {
   "cell_type": "code",
   "execution_count": 86,
   "id": "ecc7aab7",
   "metadata": {},
   "outputs": [
    {
     "name": "stdout",
     "output_type": "stream",
     "text": [
      "1.0    31989\n",
      "2.0     1131\n",
      "3.0      404\n",
      "4.0      135\n",
      "5.0       96\n",
      "Name: fire_severity, dtype: int64\n"
     ]
    }
   ],
   "source": [
    "print(fire_df['fire_severity'].value_counts())"
   ]
  },
  {
   "cell_type": "code",
   "execution_count": null,
   "id": "9eec86ec",
   "metadata": {},
   "outputs": [],
   "source": []
  }
 ],
 "metadata": {
  "kernelspec": {
   "display_name": "mlenv",
   "language": "python",
   "name": "mlenv"
  },
  "language_info": {
   "codemirror_mode": {
    "name": "ipython",
    "version": 3
   },
   "file_extension": ".py",
   "mimetype": "text/x-python",
   "name": "python",
   "nbconvert_exporter": "python",
   "pygments_lexer": "ipython3",
   "version": "3.7.10"
  }
 },
 "nbformat": 4,
 "nbformat_minor": 5
}
